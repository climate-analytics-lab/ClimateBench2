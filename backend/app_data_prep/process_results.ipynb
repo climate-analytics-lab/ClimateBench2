{
 "cells": [
  {
   "cell_type": "code",
   "execution_count": 4,
   "id": "2eeeaf0a",
   "metadata": {},
   "outputs": [],
   "source": [
    "import pandas as pd\n",
    "import xarray as xr\n",
    "import glob"
   ]
  },
  {
   "cell_type": "code",
   "execution_count": null,
   "id": "49d54f32",
   "metadata": {},
   "outputs": [],
   "source": [
    "tas_df = pd.read_csv('../results/tas/benchmark_results.csv')\n",
    "tos_df = pd.read_csv('../results/tos/benchmark_results.csv')\n",
    "pr_df = pd.read_csv('../results/pr/benchmark_results.csv')\n",
    "clt_df = pd.read_csv('../results/clt/benchmark_results.csv')\n",
    "od550aer_df = pd.read_csv('../results/od550aer/benchmark_results.csv')\n",
    "\n",
    "df = pd.concat([tas_df,tos_df,pr_df,clt_df,od550aer_df],axis=0)\n",
    "\n",
    "df['region'] = 'global'\n",
    "df.loc[(df['lat_min'] == -90) & (df['lat_max'] == 0), 'region'] = 'southern_hemisphere'\n",
    "df.loc[(df['lat_min'] == 0) & (df['lat_max'] == 90), 'region'] = 'northern_hemisphere'\n",
    "df.loc[(df['lat_min'] == -30) & (df['lat_max'] == 30), 'region'] = 'tropics'\n",
    "\n",
    "df['period'] = 'Historical (2005-2014)'\n",
    "df.loc[(df['start_year'] == 2015) & (df['end_year'] == 2024), 'period'] = 'SSP2-4.5'\n",
    "df.loc[(df['start_year'] == 1990) & (df['end_year'] == 2014), 'period'] = 'Historical (1990-2014)'\n",
    "df.loc[(df['start_year'] == 1960) & (df['end_year'] == 2014), 'period'] = 'Historical (1960-2014)'\n",
    "\n",
    "df_piv = df.pivot_table(index=['model','variable','metric','region'],columns='period',values='value').reset_index()\n",
    "\n",
    "df_piv['Change (hist 2005)'] = df_piv['SSP2-4.5'] - df_piv['Historical (2005-2014)']\n",
    "df_piv['Percent Change (hist 2005)'] = (df_piv['SSP2-4.5'] - df_piv['Historical (2005-2014)'])*100/df_piv['Historical (2005-2014)']\n",
    "\n",
    "# df_piv.to_csv('../results/processed_results/benchmark_results.csv')"
   ]
  },
  {
   "cell_type": "code",
   "execution_count": null,
   "id": "09d0e6c2",
   "metadata": {},
   "outputs": [],
   "source": [
    "for metric in ['spatial_mae','spatial_rmse']:\n",
    "    var_df_list = []\n",
    "\n",
    "    for var in ['tos','tas','pr','clt','od550aer']:\n",
    "\n",
    "        files = glob.glob(f'../backend/results/{var}/*')\n",
    "        files = [file for file in files if metric in file]\n",
    "\n",
    "        df_list = []\n",
    "\n",
    "        for file in files:\n",
    "\n",
    "            ds = xr.open_dataset(file)\n",
    "            df = ds.to_dataframe()\n",
    "            model = file.split('/')[-1].split('_')[0]\n",
    "            lat_min = file.split('/')[-1].split('_')[3]\n",
    "            lat_max = file.split('/')[-1].split('_')[4]\n",
    "            if lat_min == '-90' and lat_max == '90':\n",
    "                region = 'global'\n",
    "            elif lat_min == '-90' and lat_max == '0':\n",
    "                region = 'southern_hemisphere'\n",
    "            elif lat_min == '0' and lat_max == '90':\n",
    "                region = 'northern_hemisphere'\n",
    "            elif lat_min == '-30' and lat_max == '30':\n",
    "                region = 'tropics'\n",
    "\n",
    "            df['model'] = model\n",
    "            df['region'] = region\n",
    "            df['variable'] = var\n",
    "            df_list.append(df)\n",
    "\n",
    "        var_df_list.append(pd.concat(df_list).reset_index().pivot(index=['time','model','variable'],columns='region',values=metric))\n",
    "\n",
    "    pd.concat(var_df_list).reset_index().to_csv(f'../results/processed_results/{metric}_results.csv')"
   ]
  },
  {
   "cell_type": "code",
   "execution_count": null,
   "id": "4ba57d5f",
   "metadata": {},
   "outputs": [],
   "source": [
    "df_mae = pd.read_csv('../results/processed_results/spatial_mae_results.csv').drop(columns=['Unnamed: 0'])\n",
    "df_rmse = pd.read_csv('../results/processed_results/spatial_rmse_results.csv').drop(columns=['Unnamed: 0'])\n",
    "df_mae['metric'] = \"MAE\"\n",
    "df_rmse['metric'] = \"RMSE\"\n",
    "df = pd.concat([df_mae,df_rmse])\n",
    "df.to_csv('../results/processed_results/benchmark_results_time_series.csv')"
   ]
  }
 ],
 "metadata": {
  "kernelspec": {
   "display_name": "backend_env",
   "language": "python",
   "name": "python3"
  },
  "language_info": {
   "codemirror_mode": {
    "name": "ipython",
    "version": 3
   },
   "file_extension": ".py",
   "mimetype": "text/x-python",
   "name": "python",
   "nbconvert_exporter": "python",
   "pygments_lexer": "ipython3",
   "version": "3.13.5"
  }
 },
 "nbformat": 4,
 "nbformat_minor": 5
}
