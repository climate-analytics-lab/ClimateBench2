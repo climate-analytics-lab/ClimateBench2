{
 "cells": [
  {
   "cell_type": "markdown",
   "id": "7879e9dc",
   "metadata": {},
   "source": [
    "# Testing skill of single CMIP6 climate model \n",
    "Using 10 years of historical simulation (2005-2014) and 10 years of SSP245 (2015-2024) monthly data. Comparing to ERA5 montly data."
   ]
  },
  {
   "cell_type": "code",
   "execution_count": null,
   "id": "7fb37423",
   "metadata": {},
   "outputs": [],
   "source": [
    "import xarray as xr\n",
    "import pandas as pd\n",
    "import xesmf as xe\n",
    "import xskillscore as xs\n",
    "import matplotlib.pyplot as plt"
   ]
  },
  {
   "cell_type": "code",
   "execution_count": null,
   "id": "a7c9effe",
   "metadata": {},
   "outputs": [],
   "source": [
    "# dataset with the area of each pixel for this model\n",
    "arecella_ds = xr.open_zarr(\n",
    "    \"gs://cmip6/CMIP6/CMIP/IPSL/IPSL-CM6A-LR/historical/r10i1p1f1/fx/areacella/gr/v20180803\",\n",
    "    chunks={}, \n",
    "    consolidated=True,\n",
    ")\n",
    "# historical simulation dataset\n",
    "historical_ds = xr.open_zarr(\n",
    "    \"gs://cmip6/CMIP6/CMIP/IPSL/IPSL-CM6A-LR/historical/r1i1p1f1/Amon/tas/gr/v20180803\",\n",
    "    chunks={}, \n",
    "    consolidated=True,\n",
    ").sel(time=slice('2005-01-01','2014-12-31'))\n",
    "# ssp245 projection dataset\n",
    "historical_ds['time'] = pd.to_datetime(historical_ds['time'].dt.strftime('%Y-%m-01')) # setting to the first of the month to match with era5\n",
    "ssp245_ds = xr.open_zarr(\n",
    "    \"gs://cmip6/CMIP6/ScenarioMIP/IPSL/IPSL-CM6A-LR/ssp245/r1i1p1f1/Amon/tas/gr/v20190119\",\n",
    "    chunks={}, \n",
    "    consolidated=True,\n",
    ").sel(time=slice('2015-01-01','2024-12-31'))\n",
    "ssp245_ds['time'] = pd.to_datetime(ssp245_ds['time'].dt.strftime('%Y-%m-01')) # setting to the first of the month to match with era5"
   ]
  },
  {
   "cell_type": "code",
   "execution_count": null,
   "id": "b1f65c4c",
   "metadata": {},
   "outputs": [],
   "source": [
    "# era5 data downloaded manually from: https://cds.climate.copernicus.eu/requests?tab=all\n",
    "# zipped copy saved on google drive: https://drive.google.com/file/d/1n8ceKqAjTfZ-Jz4MRHFT0MfjaXd73VEW/view?usp=drive_link\n",
    "era5_ds = xr.open_zarr('era5_monthly_tas.zarr',chunks={})"
   ]
  },
  {
   "cell_type": "code",
   "execution_count": null,
   "id": "422a0ec1",
   "metadata": {},
   "outputs": [],
   "source": [
    "# regrid era5 data to resolution of CMIP model\n",
    "regridder = xe.Regridder(era5_ds, historical_ds[['lat','lon']], \"bilinear\")\n",
    "era5_rg_ds = regridder(era5_ds['tas'], keep_attrs=True).to_dataset(name='tas')"
   ]
  },
  {
   "cell_type": "code",
   "execution_count": null,
   "id": "70bdea80",
   "metadata": {},
   "outputs": [],
   "source": [
    "fig, ax = plt.subplots(2,2,figsize=(20,7))\n",
    "\n",
    "# plot map for first time step\n",
    "era5_ds['tas'].isel(time=0).plot(ax=ax[0,0],vmin=230,vmax=310)\n",
    "era5_rg_ds['tas'].isel(time=0).plot(ax=ax[0,1],vmin=230,vmax=310)\n",
    "# plot time series for roughly nyc\n",
    "era5_ds['tas'].sel(lat=40.7128,lon=285.994,method='nearest').plot(ax=ax[1,0])\n",
    "era5_rg_ds['tas'].sel(lat=40.7128,lon=285.994,method='nearest').plot(ax=ax[1,0])"
   ]
  },
  {
   "cell_type": "code",
   "execution_count": null,
   "id": "f38010dc",
   "metadata": {},
   "outputs": [],
   "source": [
    "# take area weighted mean and compare model to era5 (regridded)\n",
    "weights_da = arecella_ds['areacella']/arecella_ds['areacella'].sum()\n",
    "historical_weighted_mean_ds = (historical_ds['tas']*weights_da).sum(dim=['lat','lon'])\n",
    "ssp245_weighted_mean_ds = (ssp245_ds['tas']*weights_da).sum(dim=['lat','lon'])\n",
    "era5_weighted_mean_ds = (era5_rg_ds['tas']*weights_da).sum(dim=['lat','lon'])"
   ]
  },
  {
   "cell_type": "code",
   "execution_count": null,
   "id": "ebfcd415",
   "metadata": {},
   "outputs": [],
   "source": [
    "fig, ax = plt.subplots(figsize=(13,4))\n",
    "era5_weighted_mean_ds.plot(ax=ax,color='green',linestyle='-',linewidth=3,alpha=1,label='ERA5')\n",
    "historical_weighted_mean_ds.plot(ax=ax,color='blue',linestyle='-',linewidth=3,alpha=0.5,label='historical')\n",
    "ssp245_weighted_mean_ds.plot(ax=ax,color='blue',linestyle='--',linewidth=3,alpha=0.5,label='ssp245')\n",
    "ax.set_xlabel('')\n",
    "ax.set_title('Global mean temperature (K) for sample CMIP6 model and ERA5')\n",
    "ax.legend()"
   ]
  },
  {
   "cell_type": "code",
   "execution_count": null,
   "id": "15e26762",
   "metadata": {},
   "outputs": [],
   "source": [
    "historical_rmse = xs.rmse(era5_weighted_mean_ds.sel(time=slice('2005-01-01','2014-12-31')),historical_weighted_mean_ds).compute()\n",
    "ssp245_rmse = xs.rmse(era5_weighted_mean_ds.sel(time=slice('2015-01-01','2024-12-31')),ssp245_weighted_mean_ds).compute()\n",
    "\n",
    "print(f'historical simulation RMSE:   {historical_rmse.values}')\n",
    "print(f'SSP245 RMSE:                  {ssp245_rmse.values}')"
   ]
  },
  {
   "cell_type": "code",
   "execution_count": null,
   "id": "25eed8d3",
   "metadata": {},
   "outputs": [],
   "source": []
  }
 ],
 "metadata": {
  "kernelspec": {
   "display_name": "example_env",
   "language": "python",
   "name": "python3"
  },
  "language_info": {
   "codemirror_mode": {
    "name": "ipython",
    "version": 3
   },
   "file_extension": ".py",
   "mimetype": "text/x-python",
   "name": "python",
   "nbconvert_exporter": "python",
   "pygments_lexer": "ipython3",
   "version": "3.13.3"
  }
 },
 "nbformat": 4,
 "nbformat_minor": 5
}
