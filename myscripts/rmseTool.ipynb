{
 "cells": [
  {
   "cell_type": "code",
   "execution_count": 2,
   "id": "790eef57-4aca-4c9c-97b6-e6d1968846ca",
   "metadata": {},
   "outputs": [],
   "source": [
    "import xarray as xr\n",
    "import numpy as np\n",
    "import pandas as pd\n",
    "import cartopy.crs as ccrs\n",
    "import matplotlib.pyplot as plt\n",
    "from matplotlib.widgets import Slider\n",
    "import cartopy.feature as cfeature\n",
    "import xskillscore as xs\n",
    "import ipywidgets as widgets"
   ]
  },
  {
   "cell_type": "code",
   "execution_count": 3,
   "id": "2d8c5512",
   "metadata": {},
   "outputs": [
    {
     "name": "stdout",
     "output_type": "stream",
     "text": [
      "Overlapping time period: 2015-01-16T12:00:00.000000000 to 2100-12-16T12:00:00.000000000\n",
      "Overlapping latitude range: -90.0 to 90.0\n",
      "Overlapping longitude range: 0.0 to 357.5\n"
     ]
    },
    {
     "data": {
      "application/vnd.plotly.v1+json": {
       "config": {
        "plotlyServerURL": "https://plot.ly"
       },
       "data": [
        {
         "line": {
          "color": "blue"
         },
         "marker": {
          "size": 8
         },
         "mode": "lines+markers",
         "name": "Monthly RMSE",
         "type": "scatter",
         "x": {
          "bdata": "AQIDBAUGBwgJCgsM",
          "dtype": "i1"
         },
         "y": {
          "bdata": "HHfpP/EF8T8EweM/hvfhP+xQ6D+YTvI/Kvn4P1ZR8T+i6+A/DqvVP9w82D/RSd4/",
          "dtype": "f4"
         }
        }
       ],
       "layout": {
        "height": 500,
        "template": {
         "data": {
          "bar": [
           {
            "error_x": {
             "color": "#2a3f5f"
            },
            "error_y": {
             "color": "#2a3f5f"
            },
            "marker": {
             "line": {
              "color": "white",
              "width": 0.5
             },
             "pattern": {
              "fillmode": "overlay",
              "size": 10,
              "solidity": 0.2
             }
            },
            "type": "bar"
           }
          ],
          "barpolar": [
           {
            "marker": {
             "line": {
              "color": "white",
              "width": 0.5
             },
             "pattern": {
              "fillmode": "overlay",
              "size": 10,
              "solidity": 0.2
             }
            },
            "type": "barpolar"
           }
          ],
          "carpet": [
           {
            "aaxis": {
             "endlinecolor": "#2a3f5f",
             "gridcolor": "#C8D4E3",
             "linecolor": "#C8D4E3",
             "minorgridcolor": "#C8D4E3",
             "startlinecolor": "#2a3f5f"
            },
            "baxis": {
             "endlinecolor": "#2a3f5f",
             "gridcolor": "#C8D4E3",
             "linecolor": "#C8D4E3",
             "minorgridcolor": "#C8D4E3",
             "startlinecolor": "#2a3f5f"
            },
            "type": "carpet"
           }
          ],
          "choropleth": [
           {
            "colorbar": {
             "outlinewidth": 0,
             "ticks": ""
            },
            "type": "choropleth"
           }
          ],
          "contour": [
           {
            "colorbar": {
             "outlinewidth": 0,
             "ticks": ""
            },
            "colorscale": [
             [
              0,
              "#0d0887"
             ],
             [
              0.1111111111111111,
              "#46039f"
             ],
             [
              0.2222222222222222,
              "#7201a8"
             ],
             [
              0.3333333333333333,
              "#9c179e"
             ],
             [
              0.4444444444444444,
              "#bd3786"
             ],
             [
              0.5555555555555556,
              "#d8576b"
             ],
             [
              0.6666666666666666,
              "#ed7953"
             ],
             [
              0.7777777777777778,
              "#fb9f3a"
             ],
             [
              0.8888888888888888,
              "#fdca26"
             ],
             [
              1,
              "#f0f921"
             ]
            ],
            "type": "contour"
           }
          ],
          "contourcarpet": [
           {
            "colorbar": {
             "outlinewidth": 0,
             "ticks": ""
            },
            "type": "contourcarpet"
           }
          ],
          "heatmap": [
           {
            "colorbar": {
             "outlinewidth": 0,
             "ticks": ""
            },
            "colorscale": [
             [
              0,
              "#0d0887"
             ],
             [
              0.1111111111111111,
              "#46039f"
             ],
             [
              0.2222222222222222,
              "#7201a8"
             ],
             [
              0.3333333333333333,
              "#9c179e"
             ],
             [
              0.4444444444444444,
              "#bd3786"
             ],
             [
              0.5555555555555556,
              "#d8576b"
             ],
             [
              0.6666666666666666,
              "#ed7953"
             ],
             [
              0.7777777777777778,
              "#fb9f3a"
             ],
             [
              0.8888888888888888,
              "#fdca26"
             ],
             [
              1,
              "#f0f921"
             ]
            ],
            "type": "heatmap"
           }
          ],
          "histogram": [
           {
            "marker": {
             "pattern": {
              "fillmode": "overlay",
              "size": 10,
              "solidity": 0.2
             }
            },
            "type": "histogram"
           }
          ],
          "histogram2d": [
           {
            "colorbar": {
             "outlinewidth": 0,
             "ticks": ""
            },
            "colorscale": [
             [
              0,
              "#0d0887"
             ],
             [
              0.1111111111111111,
              "#46039f"
             ],
             [
              0.2222222222222222,
              "#7201a8"
             ],
             [
              0.3333333333333333,
              "#9c179e"
             ],
             [
              0.4444444444444444,
              "#bd3786"
             ],
             [
              0.5555555555555556,
              "#d8576b"
             ],
             [
              0.6666666666666666,
              "#ed7953"
             ],
             [
              0.7777777777777778,
              "#fb9f3a"
             ],
             [
              0.8888888888888888,
              "#fdca26"
             ],
             [
              1,
              "#f0f921"
             ]
            ],
            "type": "histogram2d"
           }
          ],
          "histogram2dcontour": [
           {
            "colorbar": {
             "outlinewidth": 0,
             "ticks": ""
            },
            "colorscale": [
             [
              0,
              "#0d0887"
             ],
             [
              0.1111111111111111,
              "#46039f"
             ],
             [
              0.2222222222222222,
              "#7201a8"
             ],
             [
              0.3333333333333333,
              "#9c179e"
             ],
             [
              0.4444444444444444,
              "#bd3786"
             ],
             [
              0.5555555555555556,
              "#d8576b"
             ],
             [
              0.6666666666666666,
              "#ed7953"
             ],
             [
              0.7777777777777778,
              "#fb9f3a"
             ],
             [
              0.8888888888888888,
              "#fdca26"
             ],
             [
              1,
              "#f0f921"
             ]
            ],
            "type": "histogram2dcontour"
           }
          ],
          "mesh3d": [
           {
            "colorbar": {
             "outlinewidth": 0,
             "ticks": ""
            },
            "type": "mesh3d"
           }
          ],
          "parcoords": [
           {
            "line": {
             "colorbar": {
              "outlinewidth": 0,
              "ticks": ""
             }
            },
            "type": "parcoords"
           }
          ],
          "pie": [
           {
            "automargin": true,
            "type": "pie"
           }
          ],
          "scatter": [
           {
            "fillpattern": {
             "fillmode": "overlay",
             "size": 10,
             "solidity": 0.2
            },
            "type": "scatter"
           }
          ],
          "scatter3d": [
           {
            "line": {
             "colorbar": {
              "outlinewidth": 0,
              "ticks": ""
             }
            },
            "marker": {
             "colorbar": {
              "outlinewidth": 0,
              "ticks": ""
             }
            },
            "type": "scatter3d"
           }
          ],
          "scattercarpet": [
           {
            "marker": {
             "colorbar": {
              "outlinewidth": 0,
              "ticks": ""
             }
            },
            "type": "scattercarpet"
           }
          ],
          "scattergeo": [
           {
            "marker": {
             "colorbar": {
              "outlinewidth": 0,
              "ticks": ""
             }
            },
            "type": "scattergeo"
           }
          ],
          "scattergl": [
           {
            "marker": {
             "colorbar": {
              "outlinewidth": 0,
              "ticks": ""
             }
            },
            "type": "scattergl"
           }
          ],
          "scattermap": [
           {
            "marker": {
             "colorbar": {
              "outlinewidth": 0,
              "ticks": ""
             }
            },
            "type": "scattermap"
           }
          ],
          "scattermapbox": [
           {
            "marker": {
             "colorbar": {
              "outlinewidth": 0,
              "ticks": ""
             }
            },
            "type": "scattermapbox"
           }
          ],
          "scatterpolar": [
           {
            "marker": {
             "colorbar": {
              "outlinewidth": 0,
              "ticks": ""
             }
            },
            "type": "scatterpolar"
           }
          ],
          "scatterpolargl": [
           {
            "marker": {
             "colorbar": {
              "outlinewidth": 0,
              "ticks": ""
             }
            },
            "type": "scatterpolargl"
           }
          ],
          "scatterternary": [
           {
            "marker": {
             "colorbar": {
              "outlinewidth": 0,
              "ticks": ""
             }
            },
            "type": "scatterternary"
           }
          ],
          "surface": [
           {
            "colorbar": {
             "outlinewidth": 0,
             "ticks": ""
            },
            "colorscale": [
             [
              0,
              "#0d0887"
             ],
             [
              0.1111111111111111,
              "#46039f"
             ],
             [
              0.2222222222222222,
              "#7201a8"
             ],
             [
              0.3333333333333333,
              "#9c179e"
             ],
             [
              0.4444444444444444,
              "#bd3786"
             ],
             [
              0.5555555555555556,
              "#d8576b"
             ],
             [
              0.6666666666666666,
              "#ed7953"
             ],
             [
              0.7777777777777778,
              "#fb9f3a"
             ],
             [
              0.8888888888888888,
              "#fdca26"
             ],
             [
              1,
              "#f0f921"
             ]
            ],
            "type": "surface"
           }
          ],
          "table": [
           {
            "cells": {
             "fill": {
              "color": "#EBF0F8"
             },
             "line": {
              "color": "white"
             }
            },
            "header": {
             "fill": {
              "color": "#C8D4E3"
             },
             "line": {
              "color": "white"
             }
            },
            "type": "table"
           }
          ]
         },
         "layout": {
          "annotationdefaults": {
           "arrowcolor": "#2a3f5f",
           "arrowhead": 0,
           "arrowwidth": 1
          },
          "autotypenumbers": "strict",
          "coloraxis": {
           "colorbar": {
            "outlinewidth": 0,
            "ticks": ""
           }
          },
          "colorscale": {
           "diverging": [
            [
             0,
             "#8e0152"
            ],
            [
             0.1,
             "#c51b7d"
            ],
            [
             0.2,
             "#de77ae"
            ],
            [
             0.3,
             "#f1b6da"
            ],
            [
             0.4,
             "#fde0ef"
            ],
            [
             0.5,
             "#f7f7f7"
            ],
            [
             0.6,
             "#e6f5d0"
            ],
            [
             0.7,
             "#b8e186"
            ],
            [
             0.8,
             "#7fbc41"
            ],
            [
             0.9,
             "#4d9221"
            ],
            [
             1,
             "#276419"
            ]
           ],
           "sequential": [
            [
             0,
             "#0d0887"
            ],
            [
             0.1111111111111111,
             "#46039f"
            ],
            [
             0.2222222222222222,
             "#7201a8"
            ],
            [
             0.3333333333333333,
             "#9c179e"
            ],
            [
             0.4444444444444444,
             "#bd3786"
            ],
            [
             0.5555555555555556,
             "#d8576b"
            ],
            [
             0.6666666666666666,
             "#ed7953"
            ],
            [
             0.7777777777777778,
             "#fb9f3a"
            ],
            [
             0.8888888888888888,
             "#fdca26"
            ],
            [
             1,
             "#f0f921"
            ]
           ],
           "sequentialminus": [
            [
             0,
             "#0d0887"
            ],
            [
             0.1111111111111111,
             "#46039f"
            ],
            [
             0.2222222222222222,
             "#7201a8"
            ],
            [
             0.3333333333333333,
             "#9c179e"
            ],
            [
             0.4444444444444444,
             "#bd3786"
            ],
            [
             0.5555555555555556,
             "#d8576b"
            ],
            [
             0.6666666666666666,
             "#ed7953"
            ],
            [
             0.7777777777777778,
             "#fb9f3a"
            ],
            [
             0.8888888888888888,
             "#fdca26"
            ],
            [
             1,
             "#f0f921"
            ]
           ]
          },
          "colorway": [
           "#636efa",
           "#EF553B",
           "#00cc96",
           "#ab63fa",
           "#FFA15A",
           "#19d3f3",
           "#FF6692",
           "#B6E880",
           "#FF97FF",
           "#FECB52"
          ],
          "font": {
           "color": "#2a3f5f"
          },
          "geo": {
           "bgcolor": "white",
           "lakecolor": "white",
           "landcolor": "white",
           "showlakes": true,
           "showland": true,
           "subunitcolor": "#C8D4E3"
          },
          "hoverlabel": {
           "align": "left"
          },
          "hovermode": "closest",
          "mapbox": {
           "style": "light"
          },
          "paper_bgcolor": "white",
          "plot_bgcolor": "white",
          "polar": {
           "angularaxis": {
            "gridcolor": "#EBF0F8",
            "linecolor": "#EBF0F8",
            "ticks": ""
           },
           "bgcolor": "white",
           "radialaxis": {
            "gridcolor": "#EBF0F8",
            "linecolor": "#EBF0F8",
            "ticks": ""
           }
          },
          "scene": {
           "xaxis": {
            "backgroundcolor": "white",
            "gridcolor": "#DFE8F3",
            "gridwidth": 2,
            "linecolor": "#EBF0F8",
            "showbackground": true,
            "ticks": "",
            "zerolinecolor": "#EBF0F8"
           },
           "yaxis": {
            "backgroundcolor": "white",
            "gridcolor": "#DFE8F3",
            "gridwidth": 2,
            "linecolor": "#EBF0F8",
            "showbackground": true,
            "ticks": "",
            "zerolinecolor": "#EBF0F8"
           },
           "zaxis": {
            "backgroundcolor": "white",
            "gridcolor": "#DFE8F3",
            "gridwidth": 2,
            "linecolor": "#EBF0F8",
            "showbackground": true,
            "ticks": "",
            "zerolinecolor": "#EBF0F8"
           }
          },
          "shapedefaults": {
           "line": {
            "color": "#2a3f5f"
           }
          },
          "ternary": {
           "aaxis": {
            "gridcolor": "#DFE8F3",
            "linecolor": "#A2B1C6",
            "ticks": ""
           },
           "baxis": {
            "gridcolor": "#DFE8F3",
            "linecolor": "#A2B1C6",
            "ticks": ""
           },
           "bgcolor": "white",
           "caxis": {
            "gridcolor": "#DFE8F3",
            "linecolor": "#A2B1C6",
            "ticks": ""
           }
          },
          "title": {
           "x": 0.05
          },
          "xaxis": {
           "automargin": true,
           "gridcolor": "#EBF0F8",
           "linecolor": "#EBF0F8",
           "ticks": "",
           "title": {
            "standoff": 15
           },
           "zerolinecolor": "#EBF0F8",
           "zerolinewidth": 2
          },
          "yaxis": {
           "automargin": true,
           "gridcolor": "#EBF0F8",
           "linecolor": "#EBF0F8",
           "ticks": "",
           "title": {
            "standoff": 15
           },
           "zerolinecolor": "#EBF0F8",
           "zerolinewidth": 2
          }
         }
        },
        "title": {
         "text": "Monthly RMSE of Precipitation (TaiESM1 vs IPSL-CM6A-LR)"
        },
        "width": 800,
        "xaxis": {
         "tickmode": "array",
         "ticktext": [
          "1",
          "2",
          "3",
          "4",
          "5",
          "6",
          "7",
          "8",
          "9",
          "10",
          "11",
          "12"
         ],
         "tickvals": [
          1,
          2,
          3,
          4,
          5,
          6,
          7,
          8,
          9,
          10,
          11,
          12
         ],
         "title": {
          "text": "Month"
         }
        },
        "yaxis": {
         "title": {
          "text": "RMSE (mm/day)"
         }
        }
       }
      }
     },
     "metadata": {},
     "output_type": "display_data"
    }
   ],
   "source": [
    "import plotly.graph_objects as go\n",
    "\n",
    "prc_m1 = xr.open_zarr(\n",
    "    \"gs://cmip6/CMIP6/ScenarioMIP/AS-RCEC/TaiESM1/ssp245/r1i1p1f1/Amon/prc/gn/v20201124\",\n",
    "    chunks={},\n",
    "    consolidated=True,\n",
    ")\n",
    "prc_m2 = xr.open_zarr(\n",
    "    \"gs://cmip6/CMIP6/ScenarioMIP/IPSL/IPSL-CM6A-LR/ssp245/r1i1p1f1/Amon/prc/gr/v20190119\",\n",
    "    chunks={},\n",
    "    consolidated=True,\n",
    ")\n",
    "\n",
    "# Convert calendars to standard\n",
    "prc_m1 = prc_m1.convert_calendar(\"standard\", use_cftime=False)\n",
    "prc_m2 = prc_m2.convert_calendar(\"standard\", use_cftime=False)\n",
    "\n",
    "# Extract time ranges for both datasets\n",
    "time1 = prc_m1.time\n",
    "time2 = prc_m2.time\n",
    "\n",
    "# Find overlapping time range\n",
    "start_date = max(str(time1.min().values), str(time2.min().values))\n",
    "end_date = min(str(time1.max().values), str(time2.max().values))\n",
    "\n",
    "print(f\"Overlapping time period: {start_date} to {end_date}\")\n",
    "\n",
    "# Select data within overlapping time period\n",
    "prc1 = prc_m1[\"prc\"].sel(time=slice(start_date, end_date))\n",
    "prc2 = prc_m2[\"prc\"].sel(time=slice(start_date, end_date))\n",
    "\n",
    "# Find overlapping lat/lon range\n",
    "lat_min = max(prc1.lat.min().item(), prc2.lat.min().item())\n",
    "lat_max = min(prc1.lat.max().item(), prc2.lat.max().item())\n",
    "lon_min = max(prc1.lon.min().item(), prc2.lon.min().item())\n",
    "lon_max = min(prc1.lon.max().item(), prc2.lon.max().item())\n",
    "\n",
    "print(f\"Overlapping latitude range: {lat_min} to {lat_max}\")\n",
    "print(f\"Overlapping longitude range: {lon_min} to {lon_max}\")\n",
    "\n",
    "# Subset data within overlapping spatial range\n",
    "prc1 = prc1.sel(lat=slice(lat_min, lat_max), lon=slice(lon_min, lon_max))\n",
    "prc2 = prc2.sel(lat=slice(lat_min, lat_max), lon=slice(lon_min, lon_max))\n",
    "\n",
    "# Interpolate prc2 to prc1 grid\n",
    "prc2_interp = prc2.interp(lat=prc1.lat, lon=prc1.lon)\n",
    "\n",
    "# Convert units from kg/m²/s to mm/day\n",
    "prc1_mm_day = prc1 * 86400\n",
    "prc2_mm_day = prc2_interp * 86400\n",
    "\n",
    "# Compute squared error and RMSE per calendar month\n",
    "diff_sq = (prc1_mm_day - prc2_mm_day) ** 2\n",
    "mse_monthly = diff_sq.groupby(\"time.month\").mean(dim=(\"time\", \"lat\", \"lon\"))\n",
    "rmse_monthly = np.sqrt(mse_monthly)\n",
    "\n",
    "\n",
    "months = rmse_monthly[\"month\"].values\n",
    "rmse_values = rmse_monthly.values\n",
    "\n",
    "fig = go.Figure()\n",
    "\n",
    "fig.add_trace(go.Scatter(\n",
    "    x=months,\n",
    "    y=rmse_values,\n",
    "    mode='lines+markers',\n",
    "    name='Monthly RMSE',\n",
    "    line=dict(color='blue'),\n",
    "    marker=dict(size=8)\n",
    "))\n",
    "\n",
    "fig.update_layout(\n",
    "    title=\"Monthly RMSE of Precipitation (TaiESM1 vs IPSL-CM6A-LR)\",\n",
    "    xaxis_title=\"Month\",\n",
    "    yaxis_title=\"RMSE (mm/day)\",\n",
    "    xaxis=dict(tickmode='array', tickvals=list(range(1, 13)), ticktext=[str(m) for m in range(1, 13)]),\n",
    "    template='plotly_white',\n",
    "    width=800,\n",
    "    height=500\n",
    ")\n",
    "\n",
    "fig.show()"
   ]
  },
  {
   "cell_type": "code",
   "execution_count": 4,
   "id": "94dddddc",
   "metadata": {},
   "outputs": [],
   "source": [
    "ssp245 = pd.read_csv(\"ssp245.csv\")"
   ]
  },
  {
   "cell_type": "code",
   "execution_count": 5,
   "id": "4a70bb74",
   "metadata": {},
   "outputs": [],
   "source": [
    "ssp245_query = ssp245[\n",
    "    (ssp245[\"grid_label\"] == \"gn\") &\n",
    "    (ssp245[\"member_id\"] == \"r1i1p1f1\") &\n",
    "    (ssp245[\"variable_id\"] == \"tos\")\n",
    "]"
   ]
  },
  {
   "cell_type": "code",
   "execution_count": 6,
   "id": "221f148f",
   "metadata": {},
   "outputs": [
    {
     "data": {
      "application/vnd.plotly.v1+json": {
       "config": {
        "plotlyServerURL": "https://plot.ly"
       },
       "data": [
        {
         "marker": {
          "size": 6
         },
         "mode": "lines+markers",
         "name": "TaiESM1 vs MPI-ESM1-2-LR",
         "type": "scatter",
         "x": {
          "bdata": "AQIDBAUGBwgJCgsM",
          "dtype": "i1"
         },
         "y": {
          "bdata": "lwgRQNQcDkDnFQJAzur9PwPWCUDaMBNA3jkOQInaBUAE/gFAk3sAQK1U/z/e6wVA",
          "dtype": "f4"
         }
        },
        {
         "marker": {
          "size": 6
         },
         "mode": "lines+markers",
         "name": "TaiESM1 vs MIROC6",
         "type": "scatter",
         "x": {
          "bdata": "AQIDBAUGBwgJCgsM",
          "dtype": "i1"
         },
         "y": {
          "bdata": "qYwHQL/zCUALvfc/oW70P7u1/T/mgAZAWuIBQBle/D+cdPY/N0j4PzJuAkAtsQhA",
          "dtype": "f4"
         }
        },
        {
         "marker": {
          "size": 6
         },
         "mode": "lines+markers",
         "name": "TaiESM1 vs FIO-ESM-2-0",
         "type": "scatter",
         "x": {
          "bdata": "AQIDBAUGBwgJCgsM",
          "dtype": "i1"
         },
         "y": {
          "bdata": "RHjTP/mg2D+Oysk/lB7FP86Oyj8XUMw/p+LKP+NsxT8qrb0/0by9P8KBwz/u2Mo/",
          "dtype": "f4"
         }
        },
        {
         "marker": {
          "size": 6
         },
         "mode": "lines+markers",
         "name": "TaiESM1 vs NorESM2-MM",
         "type": "scatter",
         "x": {
          "bdata": "AQIDBAUGBwgJCgsM",
          "dtype": "i1"
         },
         "y": {
          "bdata": "s3n6P4oHAEA0JfQ/67DzP2U49T/zPvI/UUPtP8N86j+Wh+Q/brDeP0ID5z+bePE/",
          "dtype": "f4"
         }
        },
        {
         "marker": {
          "size": 6
         },
         "mode": "lines+markers",
         "name": "TaiESM1 vs NorESM2-LM",
         "type": "scatter",
         "x": {
          "bdata": "AQIDBAUGBwgJCgsM",
          "dtype": "i1"
         },
         "y": {
          "bdata": "tZX+P2tP/z9KDu4/Rn/rPx3i8z9PE/c/qIv1P/RX8D+A+Oo//T7lPwfr7D/6rvU/",
          "dtype": "f4"
         }
        }
       ],
       "layout": {
        "height": 600,
        "template": {
         "data": {
          "bar": [
           {
            "error_x": {
             "color": "#2a3f5f"
            },
            "error_y": {
             "color": "#2a3f5f"
            },
            "marker": {
             "line": {
              "color": "white",
              "width": 0.5
             },
             "pattern": {
              "fillmode": "overlay",
              "size": 10,
              "solidity": 0.2
             }
            },
            "type": "bar"
           }
          ],
          "barpolar": [
           {
            "marker": {
             "line": {
              "color": "white",
              "width": 0.5
             },
             "pattern": {
              "fillmode": "overlay",
              "size": 10,
              "solidity": 0.2
             }
            },
            "type": "barpolar"
           }
          ],
          "carpet": [
           {
            "aaxis": {
             "endlinecolor": "#2a3f5f",
             "gridcolor": "#C8D4E3",
             "linecolor": "#C8D4E3",
             "minorgridcolor": "#C8D4E3",
             "startlinecolor": "#2a3f5f"
            },
            "baxis": {
             "endlinecolor": "#2a3f5f",
             "gridcolor": "#C8D4E3",
             "linecolor": "#C8D4E3",
             "minorgridcolor": "#C8D4E3",
             "startlinecolor": "#2a3f5f"
            },
            "type": "carpet"
           }
          ],
          "choropleth": [
           {
            "colorbar": {
             "outlinewidth": 0,
             "ticks": ""
            },
            "type": "choropleth"
           }
          ],
          "contour": [
           {
            "colorbar": {
             "outlinewidth": 0,
             "ticks": ""
            },
            "colorscale": [
             [
              0,
              "#0d0887"
             ],
             [
              0.1111111111111111,
              "#46039f"
             ],
             [
              0.2222222222222222,
              "#7201a8"
             ],
             [
              0.3333333333333333,
              "#9c179e"
             ],
             [
              0.4444444444444444,
              "#bd3786"
             ],
             [
              0.5555555555555556,
              "#d8576b"
             ],
             [
              0.6666666666666666,
              "#ed7953"
             ],
             [
              0.7777777777777778,
              "#fb9f3a"
             ],
             [
              0.8888888888888888,
              "#fdca26"
             ],
             [
              1,
              "#f0f921"
             ]
            ],
            "type": "contour"
           }
          ],
          "contourcarpet": [
           {
            "colorbar": {
             "outlinewidth": 0,
             "ticks": ""
            },
            "type": "contourcarpet"
           }
          ],
          "heatmap": [
           {
            "colorbar": {
             "outlinewidth": 0,
             "ticks": ""
            },
            "colorscale": [
             [
              0,
              "#0d0887"
             ],
             [
              0.1111111111111111,
              "#46039f"
             ],
             [
              0.2222222222222222,
              "#7201a8"
             ],
             [
              0.3333333333333333,
              "#9c179e"
             ],
             [
              0.4444444444444444,
              "#bd3786"
             ],
             [
              0.5555555555555556,
              "#d8576b"
             ],
             [
              0.6666666666666666,
              "#ed7953"
             ],
             [
              0.7777777777777778,
              "#fb9f3a"
             ],
             [
              0.8888888888888888,
              "#fdca26"
             ],
             [
              1,
              "#f0f921"
             ]
            ],
            "type": "heatmap"
           }
          ],
          "histogram": [
           {
            "marker": {
             "pattern": {
              "fillmode": "overlay",
              "size": 10,
              "solidity": 0.2
             }
            },
            "type": "histogram"
           }
          ],
          "histogram2d": [
           {
            "colorbar": {
             "outlinewidth": 0,
             "ticks": ""
            },
            "colorscale": [
             [
              0,
              "#0d0887"
             ],
             [
              0.1111111111111111,
              "#46039f"
             ],
             [
              0.2222222222222222,
              "#7201a8"
             ],
             [
              0.3333333333333333,
              "#9c179e"
             ],
             [
              0.4444444444444444,
              "#bd3786"
             ],
             [
              0.5555555555555556,
              "#d8576b"
             ],
             [
              0.6666666666666666,
              "#ed7953"
             ],
             [
              0.7777777777777778,
              "#fb9f3a"
             ],
             [
              0.8888888888888888,
              "#fdca26"
             ],
             [
              1,
              "#f0f921"
             ]
            ],
            "type": "histogram2d"
           }
          ],
          "histogram2dcontour": [
           {
            "colorbar": {
             "outlinewidth": 0,
             "ticks": ""
            },
            "colorscale": [
             [
              0,
              "#0d0887"
             ],
             [
              0.1111111111111111,
              "#46039f"
             ],
             [
              0.2222222222222222,
              "#7201a8"
             ],
             [
              0.3333333333333333,
              "#9c179e"
             ],
             [
              0.4444444444444444,
              "#bd3786"
             ],
             [
              0.5555555555555556,
              "#d8576b"
             ],
             [
              0.6666666666666666,
              "#ed7953"
             ],
             [
              0.7777777777777778,
              "#fb9f3a"
             ],
             [
              0.8888888888888888,
              "#fdca26"
             ],
             [
              1,
              "#f0f921"
             ]
            ],
            "type": "histogram2dcontour"
           }
          ],
          "mesh3d": [
           {
            "colorbar": {
             "outlinewidth": 0,
             "ticks": ""
            },
            "type": "mesh3d"
           }
          ],
          "parcoords": [
           {
            "line": {
             "colorbar": {
              "outlinewidth": 0,
              "ticks": ""
             }
            },
            "type": "parcoords"
           }
          ],
          "pie": [
           {
            "automargin": true,
            "type": "pie"
           }
          ],
          "scatter": [
           {
            "fillpattern": {
             "fillmode": "overlay",
             "size": 10,
             "solidity": 0.2
            },
            "type": "scatter"
           }
          ],
          "scatter3d": [
           {
            "line": {
             "colorbar": {
              "outlinewidth": 0,
              "ticks": ""
             }
            },
            "marker": {
             "colorbar": {
              "outlinewidth": 0,
              "ticks": ""
             }
            },
            "type": "scatter3d"
           }
          ],
          "scattercarpet": [
           {
            "marker": {
             "colorbar": {
              "outlinewidth": 0,
              "ticks": ""
             }
            },
            "type": "scattercarpet"
           }
          ],
          "scattergeo": [
           {
            "marker": {
             "colorbar": {
              "outlinewidth": 0,
              "ticks": ""
             }
            },
            "type": "scattergeo"
           }
          ],
          "scattergl": [
           {
            "marker": {
             "colorbar": {
              "outlinewidth": 0,
              "ticks": ""
             }
            },
            "type": "scattergl"
           }
          ],
          "scattermap": [
           {
            "marker": {
             "colorbar": {
              "outlinewidth": 0,
              "ticks": ""
             }
            },
            "type": "scattermap"
           }
          ],
          "scattermapbox": [
           {
            "marker": {
             "colorbar": {
              "outlinewidth": 0,
              "ticks": ""
             }
            },
            "type": "scattermapbox"
           }
          ],
          "scatterpolar": [
           {
            "marker": {
             "colorbar": {
              "outlinewidth": 0,
              "ticks": ""
             }
            },
            "type": "scatterpolar"
           }
          ],
          "scatterpolargl": [
           {
            "marker": {
             "colorbar": {
              "outlinewidth": 0,
              "ticks": ""
             }
            },
            "type": "scatterpolargl"
           }
          ],
          "scatterternary": [
           {
            "marker": {
             "colorbar": {
              "outlinewidth": 0,
              "ticks": ""
             }
            },
            "type": "scatterternary"
           }
          ],
          "surface": [
           {
            "colorbar": {
             "outlinewidth": 0,
             "ticks": ""
            },
            "colorscale": [
             [
              0,
              "#0d0887"
             ],
             [
              0.1111111111111111,
              "#46039f"
             ],
             [
              0.2222222222222222,
              "#7201a8"
             ],
             [
              0.3333333333333333,
              "#9c179e"
             ],
             [
              0.4444444444444444,
              "#bd3786"
             ],
             [
              0.5555555555555556,
              "#d8576b"
             ],
             [
              0.6666666666666666,
              "#ed7953"
             ],
             [
              0.7777777777777778,
              "#fb9f3a"
             ],
             [
              0.8888888888888888,
              "#fdca26"
             ],
             [
              1,
              "#f0f921"
             ]
            ],
            "type": "surface"
           }
          ],
          "table": [
           {
            "cells": {
             "fill": {
              "color": "#EBF0F8"
             },
             "line": {
              "color": "white"
             }
            },
            "header": {
             "fill": {
              "color": "#C8D4E3"
             },
             "line": {
              "color": "white"
             }
            },
            "type": "table"
           }
          ]
         },
         "layout": {
          "annotationdefaults": {
           "arrowcolor": "#2a3f5f",
           "arrowhead": 0,
           "arrowwidth": 1
          },
          "autotypenumbers": "strict",
          "coloraxis": {
           "colorbar": {
            "outlinewidth": 0,
            "ticks": ""
           }
          },
          "colorscale": {
           "diverging": [
            [
             0,
             "#8e0152"
            ],
            [
             0.1,
             "#c51b7d"
            ],
            [
             0.2,
             "#de77ae"
            ],
            [
             0.3,
             "#f1b6da"
            ],
            [
             0.4,
             "#fde0ef"
            ],
            [
             0.5,
             "#f7f7f7"
            ],
            [
             0.6,
             "#e6f5d0"
            ],
            [
             0.7,
             "#b8e186"
            ],
            [
             0.8,
             "#7fbc41"
            ],
            [
             0.9,
             "#4d9221"
            ],
            [
             1,
             "#276419"
            ]
           ],
           "sequential": [
            [
             0,
             "#0d0887"
            ],
            [
             0.1111111111111111,
             "#46039f"
            ],
            [
             0.2222222222222222,
             "#7201a8"
            ],
            [
             0.3333333333333333,
             "#9c179e"
            ],
            [
             0.4444444444444444,
             "#bd3786"
            ],
            [
             0.5555555555555556,
             "#d8576b"
            ],
            [
             0.6666666666666666,
             "#ed7953"
            ],
            [
             0.7777777777777778,
             "#fb9f3a"
            ],
            [
             0.8888888888888888,
             "#fdca26"
            ],
            [
             1,
             "#f0f921"
            ]
           ],
           "sequentialminus": [
            [
             0,
             "#0d0887"
            ],
            [
             0.1111111111111111,
             "#46039f"
            ],
            [
             0.2222222222222222,
             "#7201a8"
            ],
            [
             0.3333333333333333,
             "#9c179e"
            ],
            [
             0.4444444444444444,
             "#bd3786"
            ],
            [
             0.5555555555555556,
             "#d8576b"
            ],
            [
             0.6666666666666666,
             "#ed7953"
            ],
            [
             0.7777777777777778,
             "#fb9f3a"
            ],
            [
             0.8888888888888888,
             "#fdca26"
            ],
            [
             1,
             "#f0f921"
            ]
           ]
          },
          "colorway": [
           "#636efa",
           "#EF553B",
           "#00cc96",
           "#ab63fa",
           "#FFA15A",
           "#19d3f3",
           "#FF6692",
           "#B6E880",
           "#FF97FF",
           "#FECB52"
          ],
          "font": {
           "color": "#2a3f5f"
          },
          "geo": {
           "bgcolor": "white",
           "lakecolor": "white",
           "landcolor": "white",
           "showlakes": true,
           "showland": true,
           "subunitcolor": "#C8D4E3"
          },
          "hoverlabel": {
           "align": "left"
          },
          "hovermode": "closest",
          "mapbox": {
           "style": "light"
          },
          "paper_bgcolor": "white",
          "plot_bgcolor": "white",
          "polar": {
           "angularaxis": {
            "gridcolor": "#EBF0F8",
            "linecolor": "#EBF0F8",
            "ticks": ""
           },
           "bgcolor": "white",
           "radialaxis": {
            "gridcolor": "#EBF0F8",
            "linecolor": "#EBF0F8",
            "ticks": ""
           }
          },
          "scene": {
           "xaxis": {
            "backgroundcolor": "white",
            "gridcolor": "#DFE8F3",
            "gridwidth": 2,
            "linecolor": "#EBF0F8",
            "showbackground": true,
            "ticks": "",
            "zerolinecolor": "#EBF0F8"
           },
           "yaxis": {
            "backgroundcolor": "white",
            "gridcolor": "#DFE8F3",
            "gridwidth": 2,
            "linecolor": "#EBF0F8",
            "showbackground": true,
            "ticks": "",
            "zerolinecolor": "#EBF0F8"
           },
           "zaxis": {
            "backgroundcolor": "white",
            "gridcolor": "#DFE8F3",
            "gridwidth": 2,
            "linecolor": "#EBF0F8",
            "showbackground": true,
            "ticks": "",
            "zerolinecolor": "#EBF0F8"
           }
          },
          "shapedefaults": {
           "line": {
            "color": "#2a3f5f"
           }
          },
          "ternary": {
           "aaxis": {
            "gridcolor": "#DFE8F3",
            "linecolor": "#A2B1C6",
            "ticks": ""
           },
           "baxis": {
            "gridcolor": "#DFE8F3",
            "linecolor": "#A2B1C6",
            "ticks": ""
           },
           "bgcolor": "white",
           "caxis": {
            "gridcolor": "#DFE8F3",
            "linecolor": "#A2B1C6",
            "ticks": ""
           }
          },
          "title": {
           "x": 0.05
          },
          "xaxis": {
           "automargin": true,
           "gridcolor": "#EBF0F8",
           "linecolor": "#EBF0F8",
           "ticks": "",
           "title": {
            "standoff": 15
           },
           "zerolinecolor": "#EBF0F8",
           "zerolinewidth": 2
          },
          "yaxis": {
           "automargin": true,
           "gridcolor": "#EBF0F8",
           "linecolor": "#EBF0F8",
           "ticks": "",
           "title": {
            "standoff": 15
           },
           "zerolinecolor": "#EBF0F8",
           "zerolinewidth": 2
          }
         }
        },
        "title": {
         "text": "Monthly RMSE of Precipitation (5 Model Pairs)"
        },
        "width": 900,
        "xaxis": {
         "tickmode": "array",
         "ticktext": [
          "1",
          "2",
          "3",
          "4",
          "5",
          "6",
          "7",
          "8",
          "9",
          "10",
          "11",
          "12"
         ],
         "tickvals": [
          1,
          2,
          3,
          4,
          5,
          6,
          7,
          8,
          9,
          10,
          11,
          12
         ],
         "title": {
          "text": "Month"
         }
        },
        "yaxis": {
         "title": {
          "text": "RMSE (mm/day)"
         }
        }
       }
      }
     },
     "metadata": {},
     "output_type": "display_data"
    }
   ],
   "source": [
    "from itertools import combinations\n",
    "\n",
    "ssp245 = pd.read_csv(\"ssp245.csv\")\n",
    "prc_df = ssp245[ssp245[\"variable_id\"] == \"prc\"]\n",
    "\n",
    "# Collect model names and their zarr URLs (prefer gn grid if available)\n",
    "model_zarrs = {}\n",
    "for _, row in prc_df.sort_values(\"grid_label\").iterrows():\n",
    "    if row[\"source_id\"] not in model_zarrs:\n",
    "        model_zarrs[row[\"source_id\"]] = row[\"zstore\"]\n",
    "\n",
    "# Get all unique pairs and select only the first 5\n",
    "pairs = list(combinations(model_zarrs.items(), 2))[:5]\n",
    "\n",
    "fig = go.Figure()\n",
    "\n",
    "for (name1, url1), (name2, url2) in pairs:\n",
    "    try:\n",
    "        ds1 = xr.open_zarr(url1, consolidated=True)\n",
    "        ds2 = xr.open_zarr(url2, consolidated=True)\n",
    "        ds1 = ds1.convert_calendar(\"standard\", use_cftime=False)\n",
    "        ds2 = ds2.convert_calendar(\"standard\", use_cftime=False)\n",
    "\n",
    "        # Overlapping time\n",
    "        t1, t2 = ds1.time, ds2.time\n",
    "        start = max(str(t1.min().values), str(t2.min().values))\n",
    "        end = min(str(t1.max().values), str(t2.max().values))\n",
    "        prc1 = ds1[\"prc\"].sel(time=slice(start, end))\n",
    "        prc2 = ds2[\"prc\"].sel(time=slice(start, end))\n",
    "\n",
    "        # Overlapping lat/lon\n",
    "        lat_min = max(prc1.lat.min().item(), prc2.lat.min().item())\n",
    "        lat_max = min(prc1.lat.max().item(), prc2.lat.max().item())\n",
    "        lon_min = max(prc1.lon.min().item(), prc2.lon.min().item())\n",
    "        lon_max = min(prc1.lon.max().item(), prc2.lon.max().item())\n",
    "        prc1 = prc1.sel(lat=slice(lat_min, lat_max), lon=slice(lon_min, lon_max))\n",
    "        prc2 = prc2.sel(lat=slice(lat_min, lat_max), lon=slice(lon_min, lon_max))\n",
    "        prc2_interp = prc2.interp(lat=prc1.lat, lon=prc1.lon)\n",
    "\n",
    "        # Convert units\n",
    "        prc1_mm_day = prc1 * 86400\n",
    "        prc2_mm_day = prc2_interp * 86400\n",
    "\n",
    "        # RMSE per month\n",
    "        diff_sq = (prc1_mm_day - prc2_mm_day) ** 2\n",
    "        mse_monthly = diff_sq.groupby(\"time.month\").mean(dim=(\"time\", \"lat\", \"lon\"))\n",
    "        rmse_monthly = np.sqrt(mse_monthly)\n",
    "        months = rmse_monthly[\"month\"].values\n",
    "        rmse_values = rmse_monthly.values\n",
    "\n",
    "        fig.add_trace(go.Scatter(\n",
    "            x=months,\n",
    "            y=rmse_values,\n",
    "            mode='lines+markers',\n",
    "            name=f\"{name1} vs {name2}\",\n",
    "            marker=dict(size=6)\n",
    "        ))\n",
    "    except Exception as e:\n",
    "        print(f\"Skipping {name1} vs {name2}: {e}\")\n",
    "\n",
    "fig.update_layout(\n",
    "    title=\"Monthly RMSE of Precipitation (5 Model Pairs)\",\n",
    "    xaxis_title=\"Month\",\n",
    "    yaxis_title=\"RMSE (mm/day)\",\n",
    "    xaxis=dict(tickmode='array', tickvals=list(range(1, 13)), ticktext=[str(m) for m in range(1, 13)]),\n",
    "    template='plotly_white',\n",
    "    width=900,\n",
    "    height=600\n",
    ")\n",
    "\n",
    "fig.show()"
   ]
  },
  {
   "cell_type": "code",
   "execution_count": 7,
   "id": "fa967b58",
   "metadata": {},
   "outputs": [
    {
     "data": {
      "application/vnd.jupyter.widget-view+json": {
       "model_id": "ef2888feea8441f79d257c0a46675765",
       "version_major": 2,
       "version_minor": 0
      },
      "text/plain": [
       "VBox(children=(HBox(children=(Dropdown(description='Model 1', options=('TaiESM1', 'MPI-ESM1-2-LR', 'MIROC6', '…"
      ]
     },
     "metadata": {},
     "output_type": "display_data"
    }
   ],
   "source": [
    "import ipywidgets as widgets\n",
    "from IPython.display import display, clear_output\n",
    "\n",
    "# Widget for region and variable selection for RMSE plot\n",
    "\n",
    "def get_region_slices(region, lat):\n",
    "    if region == \"Global\":\n",
    "        return slice(-90, 90)\n",
    "    elif region == \"Tropics\":\n",
    "        return slice(-23.5, 23.5)\n",
    "    elif region == \"Northern Hemisphere\":\n",
    "        return slice(0, 90)\n",
    "    elif region == \"Southern Hemisphere\":\n",
    "        return slice(-90, 0)\n",
    "    else:\n",
    "        return slice(-90, 90)\n",
    "\n",
    "def available_variables(ds1, ds2):\n",
    "    # Return intersection of variable names in both datasets\n",
    "    return list(set(ds1.data_vars).intersection(ds2.data_vars))\n",
    "\n",
    "def plot_rmse_widget(model_zarrs):\n",
    "\n",
    "    model_names = list(model_zarrs.keys())\n",
    "    region_options = [\"Global\", \"Tropics\", \"Northern Hemisphere\", \"Southern Hemisphere\"]\n",
    "\n",
    "    model1_dd = widgets.Dropdown(options=model_names, value=model_names[0], description=\"Model 1\")\n",
    "    model2_dd = widgets.Dropdown(options=model_names, value=model_names[1], description=\"Model 2\")\n",
    "    region_dd = widgets.Dropdown(options=region_options, value=\"Global\", description=\"Region\")\n",
    "    variable_dd = widgets.Dropdown(options=[], description=\"Variable\")\n",
    "\n",
    "    output = widgets.Output()\n",
    "\n",
    "    def update_variables(*args):\n",
    "        try:\n",
    "            ds1 = xr.open_zarr(model_zarrs[model1_dd.value], consolidated=True)\n",
    "            ds2 = xr.open_zarr(model_zarrs[model2_dd.value], consolidated=True)\n",
    "            vars_avail = available_variables(ds1, ds2)\n",
    "            variable_dd.options = vars_avail\n",
    "            if vars_avail:\n",
    "                variable_dd.value = vars_avail[0]\n",
    "        except Exception:\n",
    "            variable_dd.options = []\n",
    "            variable_dd.value = None\n",
    "\n",
    "    model1_dd.observe(update_variables, names='value')\n",
    "    model2_dd.observe(update_variables, names='value')\n",
    "\n",
    "    def plot_callback(*args):\n",
    "        output.clear_output()\n",
    "        with output:\n",
    "            try:\n",
    "                ds1 = xr.open_zarr(model_zarrs[model1_dd.value], consolidated=True)\n",
    "                ds2 = xr.open_zarr(model_zarrs[model2_dd.value], consolidated=True)\n",
    "                ds1 = ds1.convert_calendar(\"standard\", use_cftime=False)\n",
    "                ds2 = ds2.convert_calendar(\"standard\", use_cftime=False)\n",
    "                var = variable_dd.value\n",
    "\n",
    "                # Overlapping time\n",
    "                t1, t2 = ds1.time, ds2.time\n",
    "                start = max(str(t1.min().values), str(t2.min().values))\n",
    "                end = min(str(t1.max().values), str(t2.max().values))\n",
    "                da1 = ds1[var].sel(time=slice(start, end))\n",
    "                da2 = ds2[var].sel(time=slice(start, end))\n",
    "\n",
    "                # Overlapping lat/lon\n",
    "                lat_min = max(da1.lat.min().item(), da2.lat.min().item())\n",
    "                lat_max = min(da1.lat.max().item(), da2.lat.max().item())\n",
    "                lon_min = max(da1.lon.min().item(), da2.lon.min().item())\n",
    "                lon_max = min(da1.lon.max().item(), da2.lon.max().item())\n",
    "                da1 = da1.sel(lat=slice(lat_min, lat_max), lon=slice(lon_min, lon_max))\n",
    "                da2 = da2.sel(lat=slice(lat_min, lat_max), lon=slice(lon_min, lon_max))\n",
    "                da2_interp = da2.interp(lat=da1.lat, lon=da1.lon)\n",
    "\n",
    "                # Region selection\n",
    "                region_slice = get_region_slices(region_dd.value, da1.lat)\n",
    "                da1_reg = da1.sel(lat=region_slice)\n",
    "                da2_reg = da2_interp.sel(lat=region_slice)\n",
    "\n",
    "                # Convert units for precipitation\n",
    "                if var == \"prc\":\n",
    "                    da1_reg = da1_reg * 86400\n",
    "                    da2_reg = da2_reg * 86400\n",
    "\n",
    "                # RMSE per month\n",
    "                diff_sq = (da1_reg - da2_reg) ** 2\n",
    "                mse_monthly = diff_sq.groupby(\"time.month\").mean(dim=(\"time\", \"lat\", \"lon\"))\n",
    "                rmse_monthly = np.sqrt(mse_monthly)\n",
    "                months = rmse_monthly[\"month\"].values\n",
    "                rmse_values = rmse_monthly.values\n",
    "\n",
    "                fig = go.Figure()\n",
    "                fig.add_trace(go.Scatter(\n",
    "                    x=months,\n",
    "                    y=rmse_values,\n",
    "                    mode='lines+markers',\n",
    "                    name=f\"{model1_dd.value} vs {model2_dd.value}\",\n",
    "                    marker=dict(size=8)\n",
    "                ))\n",
    "\n",
    "                fig.update_layout(\n",
    "                    title=f\"Monthly RMSE of {var.upper()} ({model1_dd.value} vs {model2_dd.value})<br>Region: {region_dd.value}\",\n",
    "                    xaxis_title=\"Month\",\n",
    "                    yaxis_title=f\"RMSE ({'mm/day' if var == 'prc' else ''})\",\n",
    "                    xaxis=dict(tickmode='array', tickvals=list(range(1, 13)), ticktext=[str(m) for m in range(1, 13)]),\n",
    "                    template='plotly_white',\n",
    "                    width=800,\n",
    "                    height=500\n",
    "                )\n",
    "                fig.show()\n",
    "            except Exception as e:\n",
    "                print(f\"Error: {e}\")\n",
    "                \n",
    "\n",
    "    variable_dd.observe(plot_callback, names='value')\n",
    "    region_dd.observe(plot_callback, names='value')\n",
    "    model1_dd.observe(plot_callback, names='value')\n",
    "    model2_dd.observe(plot_callback, names='value')\n",
    "\n",
    "    update_variables()\n",
    "    plot_callback()\n",
    "\n",
    "    display(widgets.VBox([widgets.HBox([model1_dd, model2_dd]), variable_dd, region_dd, output]))\n",
    "\n",
    "plot_rmse_widget(model_zarrs)"
   ]
  }
 ],
 "metadata": {
  "kernelspec": {
   "display_name": "example_env",
   "language": "python",
   "name": "python3"
  },
  "language_info": {
   "codemirror_mode": {
    "name": "ipython",
    "version": 3
   },
   "file_extension": ".py",
   "mimetype": "text/x-python",
   "name": "python",
   "nbconvert_exporter": "python",
   "pygments_lexer": "ipython3",
   "version": "3.13.5"
  }
 },
 "nbformat": 4,
 "nbformat_minor": 5
}
